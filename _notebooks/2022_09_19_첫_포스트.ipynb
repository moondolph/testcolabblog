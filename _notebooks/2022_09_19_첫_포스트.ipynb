{
  "nbformat": 4,
  "nbformat_minor": 0,
  "metadata": {
    "colab": {
      "provenance": [],
      "collapsed_sections": []
    },
    "kernelspec": {
      "name": "python3",
      "display_name": "Python 3"
    },
    "language_info": {
      "name": "python"
    }
  },
  "cells": [
    {
      "cell_type": "code",
      "execution_count": 2,
      "metadata": {
        "id": "gtc-TAi-xa1F"
      },
      "outputs": [],
      "source": []
    },
    {
      "cell_type": "markdown",
      "source": [
        "# \"제목!!\"\n",
        "> \"요약!!\"\n",
        "\n",
        "- toc: true\n",
        "- branch: master\n",
        "- badges: true\n",
        "- comments: true\n",
        "- author: jaden\n",
        "- categories: [jupyter,blog]"
      ],
      "metadata": {
        "id": "_JBhvATXzwAX"
      }
    },
    {
      "cell_type": "markdown",
      "source": [],
      "metadata": {
        "id": "vQYsLuizzu6p"
      }
    },
    {
      "cell_type": "markdown",
      "source": [],
      "metadata": {
        "id": "MJAeu47cyYeW"
      }
    },
    {
      "cell_type": "code",
      "source": [],
      "metadata": {
        "id": "eiTOhMg_yVKN"
      },
      "execution_count": null,
      "outputs": []
    }
  ]
}